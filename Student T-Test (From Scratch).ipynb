{
 "cells": [
  {
   "cell_type": "markdown",
   "metadata": {},
   "source": [
    "# Student T-Test\n",
    "\n",
    "## Was there a statistically significant change?\n",
    "\n",
    "The student's t-test is comparison of means between two distributions to see if they are different.\n",
    "\n",
    "The population has a mean.\n",
    "Various samples of that population will have slightly different means.\n",
    "So if we take a sample from a control group, and a sample from a group with some change, how do we know if the mean is different because of sampling variances, or if the second mean is actually different (that is, the population mean shifted due to the change)?\n",
    "\n",
    "This is what the t-test measures."
   ]
  },
  {
   "cell_type": "markdown",
   "metadata": {},
   "source": [
    "### t-score\n",
    "A t-score is ratio that looks at different within groups compared to different between groups. \n",
    "\n",
    "A score of 3 means that the groups are 3x different from each other as within each other. This helps us see if the group is truly different, or just falling within the control groups normal variance."
   ]
  },
  {
   "cell_type": "markdown",
   "metadata": {},
   "source": [
    "### p-value\n",
    "\n",
    "P value is the probability that the results were by chance, or normal variation within a group."
   ]
  },
  {
   "cell_type": "markdown",
   "metadata": {},
   "source": [
    "### Types\n",
    "\n",
    "* Independent t-test: compares means of two groups\n",
    "* Paired t-test: compares mean of a single group at different times\n",
    "* One Sample t-test: compares mean of a group to a known population mean"
   ]
  },
  {
   "cell_type": "markdown",
   "metadata": {},
   "source": [
    "## Independent"
   ]
  },
  {
   "cell_type": "code",
   "execution_count": 40,
   "metadata": {},
   "outputs": [],
   "source": [
    "import numpy as np\n",
    "import scipy.stats as ss\n",
    "from scipy.stats import ttest_ind"
   ]
  },
  {
   "cell_type": "code",
   "execution_count": 41,
   "metadata": {},
   "outputs": [],
   "source": [
    "# Variables\n",
    "alpha = 0.05"
   ]
  },
  {
   "cell_type": "code",
   "execution_count": 42,
   "metadata": {},
   "outputs": [],
   "source": [
    "np.random.seed(1)\n",
    "\n",
    "# slightly different mean\n",
    "sample1 = 5 * np.random.randn(100) + 50\n",
    "sample2 = 5 * np.random.randn(100) + 51"
   ]
  },
  {
   "cell_type": "code",
   "execution_count": 43,
   "metadata": {},
   "outputs": [
    {
     "name": "stdout",
     "output_type": "stream",
     "text": [
      "50.30291426037849 51.763973888101\n",
      "4.4480773365620605 4.6834501758393845\n",
      "0.4448077336562061 0.4683450175839384\n"
     ]
    }
   ],
   "source": [
    "# Sample means\n",
    "mean1, mean2 = np.mean(sample1), np.mean(sample2)\n",
    "print(mean1, mean2)\n",
    "\n",
    "# Sample standard deviations\n",
    "std1, std2 = np.std(sample1, ddof=1), np.std(sample2, ddof=1)\n",
    "print(std1, std2)\n",
    "\n",
    "# Sample standard errors\n",
    "se1, se2 = ss.sem(sample1), ss.sem(sample2)\n",
    "print(se1, se2)"
   ]
  },
  {
   "cell_type": "code",
   "execution_count": 44,
   "metadata": {},
   "outputs": [
    {
     "name": "stdout",
     "output_type": "stream",
     "text": [
      "0.6459109655487124\n"
     ]
    }
   ],
   "source": [
    "# Standard Error on the different\n",
    "sed = (se1**2 + se2**2)**0.5\n",
    "print(sed)"
   ]
  },
  {
   "cell_type": "code",
   "execution_count": 45,
   "metadata": {},
   "outputs": [
    {
     "name": "stdout",
     "output_type": "stream",
     "text": [
      "-2.2620139704259556 198\n"
     ]
    }
   ],
   "source": [
    "# t statistic\n",
    "t_stat = (mean1 - mean2)/sed\n",
    "\n",
    "# degress of freedom\n",
    "df = len(sample1) + len(sample2) - 2\n",
    "\n",
    "print(t_stat, df)"
   ]
  },
  {
   "cell_type": "code",
   "execution_count": 46,
   "metadata": {},
   "outputs": [
    {
     "name": "stdout",
     "output_type": "stream",
     "text": [
      "1.6525857836172075\n",
      "0.024782819014639745\n"
     ]
    }
   ],
   "source": [
    "# Critical value\n",
    "cv = ss.t.ppf(1 - alpha, df)\n",
    "print(cv)\n",
    "\n",
    "# calculate P value\n",
    "p = (1 - ss.t.cdf(abs(t_stat), df))*2\n",
    "print(p)"
   ]
  },
  {
   "cell_type": "markdown",
   "metadata": {},
   "source": [
    "### Rules / Results"
   ]
  },
  {
   "cell_type": "code",
   "execution_count": 47,
   "metadata": {},
   "outputs": [
    {
     "name": "stdout",
     "output_type": "stream",
     "text": [
      "Reject null, means are not equal\n"
     ]
    }
   ],
   "source": [
    "if abs(t_stat) <= cv: \n",
    "    print('Accept null, means are equal')\n",
    "else:\n",
    "    print('Reject null, means are not equal')"
   ]
  },
  {
   "cell_type": "code",
   "execution_count": 48,
   "metadata": {},
   "outputs": [
    {
     "name": "stdout",
     "output_type": "stream",
     "text": [
      "Reject null, means are not equal\n"
     ]
    }
   ],
   "source": [
    "if p > alpha: \n",
    "    print('Accept null, means are equal')\n",
    "else:\n",
    "    print('Reject null, means are not equal')"
   ]
  },
  {
   "cell_type": "markdown",
   "metadata": {},
   "source": [
    "## Dependent"
   ]
  },
  {
   "cell_type": "markdown",
   "metadata": {},
   "source": [
    "This is where it is the same sample, pre and post \"change\""
   ]
  },
  {
   "cell_type": "code",
   "execution_count": 51,
   "metadata": {},
   "outputs": [
    {
     "name": "stdout",
     "output_type": "stream",
     "text": [
      "0.6159867778587226\n"
     ]
    }
   ],
   "source": [
    "n = len(sample1)\n",
    "\n",
    "# Sample standard deviations\n",
    "sum_squared_differences = sum([(sample1[i]-sample2[i])**2 for i in range(n)])\n",
    "sum_differences = sum([(sample1[i]-sample2[i]) for i in range(len(sample1))])\n",
    "sd = ((sum_squared_differences - (sum_differences**2 / n)) / (n - 1))**0.5\n",
    "\n",
    "# Standard Error on the different\n",
    "sed = sd / n**0.5\n",
    "\n",
    "print(sed)"
   ]
  },
  {
   "cell_type": "code",
   "execution_count": 53,
   "metadata": {},
   "outputs": [
    {
     "name": "stdout",
     "output_type": "stream",
     "text": [
      "-2.3719009567078753 99\n"
     ]
    }
   ],
   "source": [
    "# t statistic\n",
    "t_stat = (mean1 - mean2)/sed\n",
    "\n",
    "# degress of freedom\n",
    "df = len(sample1) - 1\n",
    "\n",
    "print(t_stat, df)"
   ]
  },
  {
   "cell_type": "code",
   "execution_count": 54,
   "metadata": {},
   "outputs": [
    {
     "name": "stdout",
     "output_type": "stream",
     "text": [
      "1.6603911559963895\n",
      "0.019630798337125777\n"
     ]
    }
   ],
   "source": [
    "# Critical value\n",
    "cv = ss.t.ppf(1 - alpha, df)\n",
    "print(cv)\n",
    "\n",
    "# calculate P value\n",
    "p = (1 - ss.t.cdf(abs(t_stat), df))*2\n",
    "print(p)"
   ]
  },
  {
   "cell_type": "markdown",
   "metadata": {},
   "source": [
    "### Rules / Results\n"
   ]
  },
  {
   "cell_type": "code",
   "execution_count": 55,
   "metadata": {},
   "outputs": [
    {
     "name": "stdout",
     "output_type": "stream",
     "text": [
      "Reject null, means are not equal\n"
     ]
    }
   ],
   "source": [
    "if abs(t_stat) <= cv: \n",
    "    print('Accept null, means are equal')\n",
    "else:\n",
    "    print('Reject null, means are not equal')"
   ]
  },
  {
   "cell_type": "code",
   "execution_count": 56,
   "metadata": {},
   "outputs": [
    {
     "name": "stdout",
     "output_type": "stream",
     "text": [
      "Reject null, means are not equal\n"
     ]
    }
   ],
   "source": [
    "if p > alpha: \n",
    "    print('Accept null, means are equal')\n",
    "else:\n",
    "    print('Reject null, means are not equal')"
   ]
  }
 ],
 "metadata": {
  "kernelspec": {
   "display_name": "Python 3",
   "language": "python",
   "name": "python3"
  },
  "language_info": {
   "codemirror_mode": {
    "name": "ipython",
    "version": 3
   },
   "file_extension": ".py",
   "mimetype": "text/x-python",
   "name": "python",
   "nbconvert_exporter": "python",
   "pygments_lexer": "ipython3",
   "version": "3.6.7"
  }
 },
 "nbformat": 4,
 "nbformat_minor": 2
}
